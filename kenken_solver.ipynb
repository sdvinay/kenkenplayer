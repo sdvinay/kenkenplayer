{
 "cells": [
  {
   "cell_type": "code",
   "execution_count": 1,
   "metadata": {},
   "outputs": [],
   "source": [
    "from collections import namedtuple\n",
    "import itertools\n",
    "import math\n",
    "import enum"
   ]
  },
  {
   "cell_type": "code",
   "execution_count": 2,
   "metadata": {},
   "outputs": [],
   "source": [
    "PointSet = namedtuple(\"PointSet\", \" points op val\")"
   ]
  },
  {
   "cell_type": "code",
   "execution_count": 3,
   "metadata": {},
   "outputs": [
    {
     "data": {
      "text/plain": [
       "[PointSet(points=((0, 0), (1, 0)), op=<op.DIV: 1>, val=2),\n",
       " PointSet(points=((2, 0), (2, 1)), op=<op.SUB: 4>, val=2),\n",
       " PointSet(points=((0, 1), (0, 2)), op=<op.PROD: 2>, val=6),\n",
       " PointSet(points=((1, 1), (1, 2), (2, 2)), op=<op.SUM: 3>, val=6)]"
      ]
     },
     "execution_count": 3,
     "metadata": {},
     "output_type": "execute_result"
    }
   ],
   "source": [
    "BOARD_SIZE=3\n",
    "\n",
    "class op(enum.Enum):\n",
    "    DIV = enum.auto()\n",
    "    PROD = enum.auto()\n",
    "    SUM = enum.auto()\n",
    "    SUB = enum.auto()\n",
    "    NULL = enum.auto()\n",
    "\n",
    "sets = [\n",
    "    PointSet( ((0,0), (1,0)), op.DIV, 2 ),\n",
    "    PointSet( ((2,0), (2,1)), op.SUB, 2 ),\n",
    "    PointSet( ((0,1), (0,2)), op.PROD, 6 ),\n",
    "    PointSet( ((1,1), (1,2), (2,2)), op.SUM, 6 )\n",
    "\n",
    "]\n",
    "\n",
    "sets\n"
   ]
  },
  {
   "cell_type": "code",
   "execution_count": 4,
   "metadata": {},
   "outputs": [],
   "source": [
    "def get_nums():\n",
    "    return range(1, BOARD_SIZE+1)\n",
    "\n",
    "def get_factors(num, max_factor):\n",
    "    return [i for i in range(1, max_factor+1) if num%i == 0]\n",
    "\n",
    "    "
   ]
  },
  {
   "cell_type": "code",
   "execution_count": 5,
   "metadata": {},
   "outputs": [],
   "source": [
    "def enum_set_solutions(ptset):\n",
    "    solutions = {}\n",
    "    if ptset.op == op.DIV:\n",
    "        solutions = [ptset.val]\n",
    "    if ptset.op == op.DIV:\n",
    "        solutions = [(i, i*ptset.val) for i in range(1, int(BOARD_SIZE/ptset.val)+1)]\n",
    "    if ptset.op == op.SUB:\n",
    "        solutions = [(i, i+ptset.val) for i in range(1, BOARD_SIZE-ptset.val+1)]\n",
    "    if ptset.op == op.PROD:\n",
    "        factors = get_factors(ptset.val, BOARD_SIZE)\n",
    "        combos = itertools.product(factors, repeat=len(ptset.points))\n",
    "        possibles = [tuple(sorted(combo)) for combo in combos if math.prod(combo)==ptset.val]\n",
    "        solutions = list(set(possibles))\n",
    "    if ptset.op == op.SUM:\n",
    "        possible_nums = get_nums()\n",
    "        combos = itertools.product(possible_nums, repeat=len(ptset.points))\n",
    "        possibles = [tuple(sorted(combo)) for combo in combos if sum(combo)==ptset.val]\n",
    "        solutions = list(set(possibles))\n",
    "\n",
    "    return solutions"
   ]
  },
  {
   "cell_type": "code",
   "execution_count": 6,
   "metadata": {},
   "outputs": [
    {
     "data": {
      "text/plain": [
       "[[(1, 2)], [(1, 3)], [(2, 3)], [(1, 2, 3), (2, 2, 2)]]"
      ]
     },
     "execution_count": 6,
     "metadata": {},
     "output_type": "execute_result"
    }
   ],
   "source": [
    "[enum_set_solutions(s) for s in sets]"
   ]
  },
  {
   "cell_type": "code",
   "execution_count": 7,
   "metadata": {},
   "outputs": [
    {
     "data": {
      "text/plain": [
       "{(0, 0): {1, 2, 3},\n",
       " (0, 1): {1, 2, 3},\n",
       " (0, 2): {1, 2, 3},\n",
       " (1, 0): {1, 2, 3},\n",
       " (1, 1): {1, 2, 3},\n",
       " (1, 2): {1, 2, 3},\n",
       " (2, 0): {1, 2, 3},\n",
       " (2, 1): {1, 2, 3},\n",
       " (2, 2): {1, 2, 3}}"
      ]
     },
     "execution_count": 7,
     "metadata": {},
     "output_type": "execute_result"
    }
   ],
   "source": [
    "\n",
    "possible_values = {}\n",
    "for row in range(BOARD_SIZE):\n",
    "    for col in range(BOARD_SIZE):\n",
    "        possible_values[(row, col)] = set(get_nums())\n",
    "\n",
    "possible_values\n"
   ]
  },
  {
   "cell_type": "code",
   "execution_count": 8,
   "metadata": {},
   "outputs": [
    {
     "name": "stdout",
     "output_type": "stream",
     "text": [
      "123|123|123\n",
      "123|123|123\n",
      "123|123|123\n"
     ]
    }
   ],
   "source": [
    "def print_cell(nums):\n",
    "    if nums is None:\n",
    "        return \"unk\"\n",
    "    else:\n",
    "        return \"\".join([str(i) if i in nums else \" \" for i in get_nums()])\n",
    "\n",
    "def print_grid(values):\n",
    "    for row in range(BOARD_SIZE):\n",
    "        print (\"|\".join([print_cell(values[(row, col)]) for col in range(BOARD_SIZE)]))\n",
    "\n",
    "print_grid(possible_values)\n"
   ]
  },
  {
   "cell_type": "code",
   "execution_count": 9,
   "metadata": {},
   "outputs": [
    {
     "name": "stdout",
     "output_type": "stream",
     "text": [
      "12 | 23| 23\n",
      "12 |123|123\n",
      "1 3|1 3|123\n"
     ]
    }
   ],
   "source": [
    "def do_pointset_math_logic():\n",
    "    for s in sets:\n",
    "        sols = enum_set_solutions(s)\n",
    "        nums = set.union(*[set(sol) for sol in sols])\n",
    "        for pt in s.points:\n",
    "            possible_values[pt] = possible_values[pt].intersection(nums)\n",
    "\n",
    "do_pointset_math_logic()\n",
    "print_grid(possible_values)"
   ]
  },
  {
   "cell_type": "code",
   "execution_count": 10,
   "metadata": {},
   "outputs": [
    {
     "name": "stdout",
     "output_type": "stream",
     "text": [
      "1  | 23|  3\n",
      " 2 |123|1 3\n",
      "  3|1 3| 2 \n"
     ]
    }
   ],
   "source": [
    "# find pairs of pairs, use them to eliminate\n",
    "# Eg the ' 23' in two cells of row 0 means that there can't be a 2 or 3 elsewhere in row 1\n",
    "# TODO generalize this to columns\n",
    "def do_pigeonhole_logic():\n",
    "    for row in range(BOARD_SIZE):\n",
    "        for size in range (1,4):\n",
    "            pairs = {col: possible_values[(row, col)] for col in range(BOARD_SIZE) if len(possible_values[(row, col)])==size}\n",
    "            paired_pairs = [pair for pair in pairs.values() if list(pairs.values()).count(pair)==size]\n",
    "            nums = []\n",
    "            if paired_pairs:\n",
    "                nums = set.union(*[set(pair) for pair in paired_pairs])\n",
    "                for col in range(BOARD_SIZE):\n",
    "                    possibles = possible_values[(row, col)]\n",
    "                    if possibles not in paired_pairs:\n",
    "                        possible_values[(row, col)] = possibles - nums\n",
    "\n",
    "    # For now copy/paste for cols\n",
    "    for col in range(BOARD_SIZE):\n",
    "        for size in range (1,4):\n",
    "            pairs = {row: possible_values[(row, col)] for row in range(BOARD_SIZE) if len(possible_values[(row, col)])==size}\n",
    "            paired_pairs = [pair for pair in pairs.values() if list(pairs.values()).count(pair)==size]\n",
    "            nums = []\n",
    "            if paired_pairs:\n",
    "                nums = set.union(*[set(pair) for pair in paired_pairs])\n",
    "                for row in range(BOARD_SIZE):\n",
    "                    possibles = possible_values[(row, col)]\n",
    "                    if possibles not in paired_pairs:\n",
    "                        possible_values[(row, col)] = possibles - nums\n",
    "\n",
    "do_pigeonhole_logic()\n",
    "print_grid(possible_values)"
   ]
  },
  {
   "cell_type": "code",
   "execution_count": 11,
   "metadata": {},
   "outputs": [
    {
     "name": "stdout",
     "output_type": "stream",
     "text": [
      "1  | 2 |  3\n",
      " 2 |  3|1  \n",
      "  3|1  | 2 \n"
     ]
    }
   ],
   "source": [
    "# another iteration\n",
    "do_pigeonhole_logic()\n",
    "print_grid(possible_values)"
   ]
  },
  {
   "cell_type": "code",
   "execution_count": null,
   "metadata": {},
   "outputs": [],
   "source": []
  }
 ],
 "metadata": {
  "interpreter": {
   "hash": "b0fa6594d8f4cbf19f97940f81e996739fb7646882a419484c72d19e05852a7e"
  },
  "kernelspec": {
   "display_name": "Python 3.9.10 64-bit",
   "language": "python",
   "name": "python3"
  },
  "language_info": {
   "codemirror_mode": {
    "name": "ipython",
    "version": 3
   },
   "file_extension": ".py",
   "mimetype": "text/x-python",
   "name": "python",
   "nbconvert_exporter": "python",
   "pygments_lexer": "ipython3",
   "version": "3.8.8"
  },
  "orig_nbformat": 4
 },
 "nbformat": 4,
 "nbformat_minor": 2
}
