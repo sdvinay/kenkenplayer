{
 "cells": [
  {
   "cell_type": "code",
   "execution_count": 1,
   "metadata": {},
   "outputs": [],
   "source": [
    "from collections import namedtuple\n",
    "import itertools\n",
    "import math\n",
    "import enum"
   ]
  },
  {
   "cell_type": "code",
   "execution_count": 2,
   "metadata": {},
   "outputs": [],
   "source": [
    "# Classes used for declaring the board\n",
    "PointSet = namedtuple(\"PointSet\", \" points op val\")\n",
    "\n",
    "class op(enum.Enum):\n",
    "    DIV = enum.auto()\n",
    "    PROD = enum.auto()\n",
    "    SUM = enum.auto()\n",
    "    SUB = enum.auto()\n",
    "    NULL = enum.auto()"
   ]
  },
  {
   "cell_type": "code",
   "execution_count": 3,
   "metadata": {},
   "outputs": [
    {
     "data": {
      "text/plain": [
       "[PointSet(points=((0, 0), (1, 0)), op=<op.DIV: 1>, val=2),\n",
       " PointSet(points=((2, 0), (2, 1)), op=<op.SUB: 4>, val=2),\n",
       " PointSet(points=((0, 1), (0, 2)), op=<op.PROD: 2>, val=6),\n",
       " PointSet(points=((1, 1), (1, 2), (2, 2)), op=<op.SUM: 3>, val=6)]"
      ]
     },
     "execution_count": 3,
     "metadata": {},
     "output_type": "execute_result"
    }
   ],
   "source": [
    "# A 3x3 board\n",
    "BOARD_SIZE=3\n",
    "\n",
    "sets = [\n",
    "    PointSet( ((0,0), (1,0)), op.DIV, 2 ),\n",
    "    PointSet( ((2,0), (2,1)), op.SUB, 2 ),\n",
    "    PointSet( ((0,1), (0,2)), op.PROD, 6 ),\n",
    "    PointSet( ((1,1), (1,2), (2,2)), op.SUM, 6 )\n",
    "]\n",
    "\n",
    "sets"
   ]
  },
  {
   "cell_type": "code",
   "execution_count": 4,
   "metadata": {},
   "outputs": [],
   "source": [
    "# 4x4 board\n",
    "BOARD_SIZE=4\n",
    "\n",
    "sets = [\n",
    "    PointSet( ((0,0), (0,1)), op.SUB, 1 ),\n",
    "    PointSet( ((0,2), (0,3)), op.SUB, 3 ),\n",
    "    PointSet( ((1,0), (1,1)), op.SUM, 3 ),\n",
    "    PointSet( ((1,2), (2,2)), op.SUB, 2 ),\n",
    "    PointSet( ((1,3), (2,3)), op.DIV, 2 ),\n",
    "    PointSet( ((2,0), (2,1)), op.SUB, 1 ),\n",
    "    PointSet( [(3,0)], op.NULL, 4 ), # Have to do this with single-cell sets to make this work\n",
    "    PointSet( ((3,1), (3,2), (3,3)), op.PROD, 6 )\n",
    "]"
   ]
  },
  {
   "cell_type": "code",
   "execution_count": 5,
   "metadata": {},
   "outputs": [
    {
     "data": {
      "text/plain": [
       "{(0, 0),\n",
       " (0, 1),\n",
       " (0, 2),\n",
       " (0, 3),\n",
       " (1, 0),\n",
       " (1, 1),\n",
       " (1, 2),\n",
       " (1, 3),\n",
       " (2, 0),\n",
       " (2, 1),\n",
       " (2, 2),\n",
       " (2, 3),\n",
       " (3, 0),\n",
       " (3, 1),\n",
       " (3, 2),\n",
       " (3, 3)}"
      ]
     },
     "execution_count": 5,
     "metadata": {},
     "output_type": "execute_result"
    }
   ],
   "source": [
    "# Validate that every point is in a point set\n",
    "set.union(*[set(s.points) for s in sets])"
   ]
  },
  {
   "cell_type": "code",
   "execution_count": 6,
   "metadata": {},
   "outputs": [
    {
     "data": {
      "text/plain": [
       "{(0, 0): {1, 2, 3, 4},\n",
       " (0, 1): {1, 2, 3, 4},\n",
       " (0, 2): {1, 2, 3, 4},\n",
       " (0, 3): {1, 2, 3, 4},\n",
       " (1, 0): {1, 2, 3, 4},\n",
       " (1, 1): {1, 2, 3, 4},\n",
       " (1, 2): {1, 2, 3, 4},\n",
       " (1, 3): {1, 2, 3, 4},\n",
       " (2, 0): {1, 2, 3, 4},\n",
       " (2, 1): {1, 2, 3, 4},\n",
       " (2, 2): {1, 2, 3, 4},\n",
       " (2, 3): {1, 2, 3, 4},\n",
       " (3, 0): {1, 2, 3, 4},\n",
       " (3, 1): {1, 2, 3, 4},\n",
       " (3, 2): {1, 2, 3, 4},\n",
       " (3, 3): {1, 2, 3, 4}}"
      ]
     },
     "execution_count": 6,
     "metadata": {},
     "output_type": "execute_result"
    }
   ],
   "source": [
    "# convenience func\n",
    "def get_nums():\n",
    "    return range(1, BOARD_SIZE+1)\n",
    "\n",
    "# Set up a grid of possible values\n",
    "possible_values = {}\n",
    "for row in range(BOARD_SIZE):\n",
    "    for col in range(BOARD_SIZE):\n",
    "        possible_values[(row, col)] = set(get_nums())\n",
    "\n",
    "possible_values\n"
   ]
  },
  {
   "cell_type": "code",
   "execution_count": 7,
   "metadata": {},
   "outputs": [
    {
     "name": "stdout",
     "output_type": "stream",
     "text": [
      "1234|1234|1234|1234\n",
      "1234|1234|1234|1234\n",
      "1234|1234|1234|1234\n",
      "1234|1234|1234|1234\n"
     ]
    }
   ],
   "source": [
    "# Pretty-printing the current state\n",
    "def print_cell(nums):\n",
    "    return \"\".join([str(i) if i in nums else \" \" for i in get_nums()])\n",
    "\n",
    "def print_grid(values):\n",
    "    for row in range(BOARD_SIZE):\n",
    "        print (\"|\".join([print_cell(values[(row, col)]) for col in range(BOARD_SIZE)]))\n",
    "\n",
    "print_grid(possible_values)\n"
   ]
  },
  {
   "cell_type": "code",
   "execution_count": 8,
   "metadata": {},
   "outputs": [],
   "source": [
    "# For a PointSet, enumerate all the sets of numbers that could meet the arithmetic constraint\n",
    "def enum_set_solutions(ptset):\n",
    "    solutions = {}\n",
    "    if ptset.op == op.NULL:\n",
    "        solutions = [[ptset.val]]\n",
    "    if ptset.op == op.DIV:\n",
    "        solutions = [(i, i*ptset.val) for i in range(1, int(BOARD_SIZE/ptset.val)+1)]\n",
    "    if ptset.op == op.SUB:\n",
    "        solutions = [(i, i+ptset.val) for i in range(1, BOARD_SIZE-ptset.val+1)]\n",
    "    if ptset.op == op.PROD:\n",
    "        factors = (i for i in get_nums() if ptset.val%i == 0)\n",
    "        combos = itertools.product(factors, repeat=len(ptset.points))\n",
    "        possibles = [tuple(sorted(combo)) for combo in combos if math.prod(combo)==ptset.val]\n",
    "        solutions = list(set(possibles))\n",
    "    if ptset.op == op.SUM:\n",
    "        possible_nums = get_nums()\n",
    "        combos = itertools.product(possible_nums, repeat=len(ptset.points))\n",
    "        possibles = [tuple(sorted(combo)) for combo in combos if sum(combo)==ptset.val]\n",
    "        solutions = list(set(possibles))\n",
    "\n",
    "    return solutions"
   ]
  },
  {
   "cell_type": "code",
   "execution_count": 9,
   "metadata": {},
   "outputs": [
    {
     "data": {
      "text/plain": [
       "[[(1, 2), (2, 3), (3, 4)],\n",
       " [(1, 4)],\n",
       " [(1, 2)],\n",
       " [(1, 3), (2, 4)],\n",
       " [(1, 2), (2, 4)],\n",
       " [(1, 2), (2, 3), (3, 4)],\n",
       " [[4]],\n",
       " [(1, 2, 3)]]"
      ]
     },
     "execution_count": 9,
     "metadata": {},
     "output_type": "execute_result"
    }
   ],
   "source": [
    "[enum_set_solutions(s) for s in sets]"
   ]
  },
  {
   "cell_type": "code",
   "execution_count": 10,
   "metadata": {},
   "outputs": [
    {
     "name": "stdout",
     "output_type": "stream",
     "text": [
      "1234|1234|1  4|1  4\n",
      "12  |12  |1234|12 4\n",
      "1234|1234|1234|12 4\n",
      "   4|123 |123 |123 \n"
     ]
    }
   ],
   "source": [
    "# Apply the pointset math\n",
    "# For each set, compute the possible values that can fill the set,\n",
    "# and restrict the global possible values to those values\n",
    "def do_pointset_math_logic():\n",
    "    for s in sets:\n",
    "        sols = enum_set_solutions(s)\n",
    "        nums = set.union(*[set(sol) for sol in sols])\n",
    "        for pt in s.points:\n",
    "            possible_values[pt] = possible_values[pt].intersection(nums)\n",
    "\n",
    "do_pointset_math_logic()\n",
    "print_grid(possible_values)"
   ]
  },
  {
   "cell_type": "code",
   "execution_count": 11,
   "metadata": {},
   "outputs": [
    {
     "name": "stdout",
     "output_type": "stream",
     "text": [
      " 23 | 23 |1  4|1   \n",
      "12  |12  |  34|   4\n",
      "123 |1234|1234|12  \n",
      "   4|123 |123 |123 \n"
     ]
    }
   ],
   "source": [
    "# This does the pigeonhole logic of one number per row/column\n",
    "# The logic is easy when a cell has only one possible value\n",
    "# But it can be generalized; if a row has two pairs with two values, those two values can't be elsewhere\n",
    "# Eg the ' 23' in two cells of row 0 means that there can't be a 2 or 3 elsewhere in row 0\n",
    "# And so on for 3 sets of size 3, etc\n",
    "# TODO generalize this to columns\n",
    "def do_pigeonhole_logic():\n",
    "    for row in range(BOARD_SIZE):\n",
    "        for size in range (1,4):\n",
    "            pairs = {col: possible_values[(row, col)] for col in range(BOARD_SIZE) if len(possible_values[(row, col)])==size}\n",
    "            paired_pairs = [pair for pair in pairs.values() if list(pairs.values()).count(pair)==size]\n",
    "            nums = []\n",
    "            if paired_pairs:\n",
    "                nums = set.union(*[set(pair) for pair in paired_pairs])\n",
    "                for col in range(BOARD_SIZE):\n",
    "                    possibles = possible_values[(row, col)]\n",
    "                    if possibles not in paired_pairs:\n",
    "                        possible_values[(row, col)] = possibles - nums\n",
    "\n",
    "    # For now copy/paste for cols\n",
    "    for col in range(BOARD_SIZE):\n",
    "        for size in range (1,4):\n",
    "            pairs = {row: possible_values[(row, col)] for row in range(BOARD_SIZE) if len(possible_values[(row, col)])==size}\n",
    "            paired_pairs = [pair for pair in pairs.values() if list(pairs.values()).count(pair)==size]\n",
    "            nums = []\n",
    "            if paired_pairs:\n",
    "                nums = set.union(*[set(pair) for pair in paired_pairs])\n",
    "                for row in range(BOARD_SIZE):\n",
    "                    possibles = possible_values[(row, col)]\n",
    "                    if possibles not in paired_pairs:\n",
    "                        possible_values[(row, col)] = possibles - nums\n",
    "\n",
    "do_pigeonhole_logic()\n",
    "print_grid(possible_values)"
   ]
  },
  {
   "cell_type": "code",
   "execution_count": 12,
   "metadata": {},
   "outputs": [
    {
     "name": "stdout",
     "output_type": "stream",
     "text": [
      " 23 | 23 |   4|1   \n",
      "12  |12  |  3 |   4\n",
      "123 |1234|12  | 2  \n",
      "   4|123 |12  | 23 \n"
     ]
    }
   ],
   "source": [
    "# another iteration\n",
    "do_pigeonhole_logic()\n",
    "print_grid(possible_values)"
   ]
  },
  {
   "cell_type": "code",
   "execution_count": 13,
   "metadata": {},
   "outputs": [
    {
     "name": "stdout",
     "output_type": "stream",
     "text": [
      " 2  |  3 |   4|1   \n",
      "1   | 2  |  3 |   4\n",
      "  3 |   4|1   | 2  \n",
      "   4|1   | 2  |  3 \n"
     ]
    }
   ],
   "source": [
    "# a few more iterations\n",
    "[do_pigeonhole_logic() for _ in range(3)]\n",
    "print_grid(possible_values)"
   ]
  },
  {
   "cell_type": "code",
   "execution_count": 14,
   "metadata": {},
   "outputs": [],
   "source": [
    "# TODO the pointset math logic is pretty basic now\n",
    "# I could expand it to see which sets are actually possible based on current state\n",
    "# E.g., if a valid set is {1, 2 ,3}, but we know that 3 can't be in any of the three cells,\n",
    "# we can eliminate that set\n",
    "\n",
    "# TODO iteratively run the pigeonhole and math logic until we solve the problem (or converge without a solution)"
   ]
  }
 ],
 "metadata": {
  "interpreter": {
   "hash": "b0fa6594d8f4cbf19f97940f81e996739fb7646882a419484c72d19e05852a7e"
  },
  "kernelspec": {
   "display_name": "Python 3.9.10 64-bit",
   "language": "python",
   "name": "python3"
  },
  "language_info": {
   "codemirror_mode": {
    "name": "ipython",
    "version": 3
   },
   "file_extension": ".py",
   "mimetype": "text/x-python",
   "name": "python",
   "nbconvert_exporter": "python",
   "pygments_lexer": "ipython3",
   "version": "3.9.10"
  },
  "orig_nbformat": 4
 },
 "nbformat": 4,
 "nbformat_minor": 2
}
