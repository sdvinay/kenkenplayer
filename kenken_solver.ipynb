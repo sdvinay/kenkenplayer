{
 "cells": [
  {
   "cell_type": "code",
   "execution_count": 1,
   "metadata": {},
   "outputs": [],
   "source": [
    "from collections import namedtuple\n",
    "import itertools\n",
    "import math"
   ]
  },
  {
   "cell_type": "code",
   "execution_count": 2,
   "metadata": {},
   "outputs": [],
   "source": [
    "PointSet = namedtuple(\"PointSet\", \" points op val\")"
   ]
  },
  {
   "cell_type": "code",
   "execution_count": 3,
   "metadata": {},
   "outputs": [
    {
     "data": {
      "text/plain": [
       "[PointSet(points=((0, 0), (1, 0)), op='DIV', val=2),\n",
       " PointSet(points=((2, 0), (2, 1)), op='SUB', val=2),\n",
       " PointSet(points=((0, 1), (0, 2)), op='PROD', val=6),\n",
       " PointSet(points=((1, 1), (1, 2), (2, 2)), op='SUM', val=6)]"
      ]
     },
     "execution_count": 3,
     "metadata": {},
     "output_type": "execute_result"
    }
   ],
   "source": [
    "BOARD_SIZE=3\n",
    "\n",
    "operators = 'DIV', 'PROD', 'SUM', 'SUB'\n",
    "\n",
    "sets = [\n",
    "    PointSet( ((0,0), (1,0)), 'DIV', 2 ),\n",
    "    PointSet( ((2,0), (2,1)), 'SUB', 2 ),\n",
    "    PointSet( ((0,1), (0,2)), 'PROD', 6 ),\n",
    "    PointSet( ((1,1), (1,2), (2,2)), 'SUM', 6 )\n",
    "\n",
    "]\n",
    "\n",
    "sets\n"
   ]
  },
  {
   "cell_type": "code",
   "execution_count": 4,
   "metadata": {},
   "outputs": [],
   "source": [
    "def get_factors(num, max_factor):\n",
    "    return [i for i in range(1, max_factor+1) if num%i == 0]\n",
    "    "
   ]
  },
  {
   "cell_type": "code",
   "execution_count": 5,
   "metadata": {},
   "outputs": [],
   "source": [
    "def enum_set_solutions(ptset):\n",
    "    solutions = {}\n",
    "    if ptset.op == 'DIV':\n",
    "        solutions = [(i, i*ptset.val) for i in range(1, int(BOARD_SIZE/ptset.val)+1)]\n",
    "    if ptset.op == 'SUB':\n",
    "        solutions = [(i, i+ptset.val) for i in range(1, BOARD_SIZE-ptset.val+1)]\n",
    "    if ptset.op == 'PROD':\n",
    "        factors = get_factors(ptset.val, BOARD_SIZE)\n",
    "        combos = itertools.product(factors, repeat=len(ptset.points))\n",
    "        possibles = [tuple(sorted(combo)) for combo in combos if math.prod(combo)==ptset.val]\n",
    "        solutions = list(set(possibles))\n",
    "    if ptset.op == 'SUM':\n",
    "        possible_nums = range(1,BOARD_SIZE+1)\n",
    "        combos = itertools.product(possible_nums, repeat=len(ptset.points))\n",
    "        possibles = [tuple(sorted(combo)) for combo in combos if sum(combo)==ptset.val]\n",
    "        solutions = list(set(possibles))\n",
    "\n",
    "    return solutions"
   ]
  },
  {
   "cell_type": "code",
   "execution_count": 6,
   "metadata": {},
   "outputs": [
    {
     "data": {
      "text/plain": [
       "[[(1, 2)], [(1, 3)], [(2, 3)], [(1, 2, 3), (2, 2, 2)]]"
      ]
     },
     "execution_count": 6,
     "metadata": {},
     "output_type": "execute_result"
    }
   ],
   "source": [
    "[enum_set_solutions(s) for s in sets]"
   ]
  },
  {
   "cell_type": "code",
   "execution_count": null,
   "metadata": {},
   "outputs": [],
   "source": []
  }
 ],
 "metadata": {
  "interpreter": {
   "hash": "b0fa6594d8f4cbf19f97940f81e996739fb7646882a419484c72d19e05852a7e"
  },
  "kernelspec": {
   "display_name": "Python 3.9.10 64-bit",
   "language": "python",
   "name": "python3"
  },
  "language_info": {
   "codemirror_mode": {
    "name": "ipython",
    "version": 3
   },
   "file_extension": ".py",
   "mimetype": "text/x-python",
   "name": "python",
   "nbconvert_exporter": "python",
   "pygments_lexer": "ipython3",
   "version": "3.8.8"
  },
  "orig_nbformat": 4
 },
 "nbformat": 4,
 "nbformat_minor": 2
}
