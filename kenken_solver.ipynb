{
 "cells": [
  {
   "cell_type": "code",
   "execution_count": 1,
   "metadata": {},
   "outputs": [],
   "source": [
    "import itertools\n",
    "import math\n",
    "\n",
    "from game import Cage, op, Cell\n",
    "import game_parser"
   ]
  },
  {
   "cell_type": "code",
   "execution_count": 2,
   "metadata": {},
   "outputs": [
    {
     "data": {
      "text/plain": [
       "Puzzle(board_size=6, cages=[Cage(cells=[Cell(row=0, col=0), Cell(row=0, col=1), Cell(row=0, col=2)], op=<op.PROD: '*'>, val=90), Cage(cells=[Cell(row=0, col=3), Cell(row=1, col=3)], op=<op.SUM: '+'>, val=5), Cage(cells=[Cell(row=0, col=4), Cell(row=0, col=5)], op=<op.SUM: '+'>, val=5), Cage(cells=[Cell(row=1, col=0), Cell(row=2, col=0)], op=<op.DIV: '/'>, val=2), Cage(cells=[Cell(row=1, col=1), Cell(row=1, col=2)], op=<op.SUM: '+'>, val=11), Cage(cells=[Cell(row=1, col=4), Cell(row=1, col=5)], op=<op.DIV: '/'>, val=2), Cage(cells=[Cell(row=2, col=1), Cell(row=3, col=1)], op=<op.SUB: '-'>, val=5), Cage(cells=[Cell(row=2, col=2), Cell(row=2, col=3), Cell(row=2, col=4)], op=<op.PROD: '*'>, val=72), Cage(cells=[Cell(row=2, col=5), Cell(row=3, col=5), Cell(row=3, col=4)], op=<op.SUM: '+'>, val=10), Cage(cells=[Cell(row=3, col=0), Cell(row=4, col=0)], op=<op.PROD: '*'>, val=20), Cage(cells=[Cell(row=3, col=2), Cell(row=3, col=3)], op=<op.SUM: '+'>, val=6), Cage(cells=[Cell(row=4, col=1), Cell(row=4, col=2), Cell(row=5, col=2)], op=<op.PROD: '*'>, val=16), Cage(cells=[Cell(row=4, col=3), Cell(row=4, col=4)], op=<op.SUB: '-'>, val=5), Cage(cells=[Cell(row=4, col=5), Cell(row=5, col=5)], op=<op.DIV: '/'>, val=2), Cage(cells=[Cell(row=5, col=0), Cell(row=5, col=1)], op=<op.SUM: '+'>, val=7), Cage(cells=[Cell(row=5, col=3), Cell(row=5, col=4)], op=<op.SUM: '+'>, val=6)])"
      ]
     },
     "execution_count": 2,
     "metadata": {},
     "output_type": "execute_result"
    }
   ],
   "source": [
    "puzzle = game_parser.get_puzzle(95541)\n",
    "puzzle"
   ]
  },
  {
   "cell_type": "code",
   "execution_count": 3,
   "metadata": {},
   "outputs": [
    {
     "data": {
      "text/plain": [
       "(36, 36, 36)"
      ]
     },
     "execution_count": 3,
     "metadata": {},
     "output_type": "execute_result"
    }
   ],
   "source": [
    "# Validate that we have the right number of total cells, and unique cells\n",
    "puzzle.board_size**2, sum(len(c.cells) for c in puzzle.cages), len(set.union(*(set(c.cells) for c in puzzle.cages)))"
   ]
  },
  {
   "cell_type": "code",
   "execution_count": 4,
   "metadata": {},
   "outputs": [
    {
     "data": {
      "text/plain": [
       "{Cell(row=0, col=0): {1, 2, 3, 4, 5, 6},\n",
       " Cell(row=0, col=1): {1, 2, 3, 4, 5, 6},\n",
       " Cell(row=0, col=2): {1, 2, 3, 4, 5, 6},\n",
       " Cell(row=0, col=3): {1, 2, 3, 4, 5, 6},\n",
       " Cell(row=0, col=4): {1, 2, 3, 4, 5, 6},\n",
       " Cell(row=0, col=5): {1, 2, 3, 4, 5, 6},\n",
       " Cell(row=1, col=0): {1, 2, 3, 4, 5, 6},\n",
       " Cell(row=1, col=1): {1, 2, 3, 4, 5, 6},\n",
       " Cell(row=1, col=2): {1, 2, 3, 4, 5, 6},\n",
       " Cell(row=1, col=3): {1, 2, 3, 4, 5, 6},\n",
       " Cell(row=1, col=4): {1, 2, 3, 4, 5, 6},\n",
       " Cell(row=1, col=5): {1, 2, 3, 4, 5, 6},\n",
       " Cell(row=2, col=0): {1, 2, 3, 4, 5, 6},\n",
       " Cell(row=2, col=1): {1, 2, 3, 4, 5, 6},\n",
       " Cell(row=2, col=2): {1, 2, 3, 4, 5, 6},\n",
       " Cell(row=2, col=3): {1, 2, 3, 4, 5, 6},\n",
       " Cell(row=2, col=4): {1, 2, 3, 4, 5, 6},\n",
       " Cell(row=2, col=5): {1, 2, 3, 4, 5, 6},\n",
       " Cell(row=3, col=0): {1, 2, 3, 4, 5, 6},\n",
       " Cell(row=3, col=1): {1, 2, 3, 4, 5, 6},\n",
       " Cell(row=3, col=2): {1, 2, 3, 4, 5, 6},\n",
       " Cell(row=3, col=3): {1, 2, 3, 4, 5, 6},\n",
       " Cell(row=3, col=4): {1, 2, 3, 4, 5, 6},\n",
       " Cell(row=3, col=5): {1, 2, 3, 4, 5, 6},\n",
       " Cell(row=4, col=0): {1, 2, 3, 4, 5, 6},\n",
       " Cell(row=4, col=1): {1, 2, 3, 4, 5, 6},\n",
       " Cell(row=4, col=2): {1, 2, 3, 4, 5, 6},\n",
       " Cell(row=4, col=3): {1, 2, 3, 4, 5, 6},\n",
       " Cell(row=4, col=4): {1, 2, 3, 4, 5, 6},\n",
       " Cell(row=4, col=5): {1, 2, 3, 4, 5, 6},\n",
       " Cell(row=5, col=0): {1, 2, 3, 4, 5, 6},\n",
       " Cell(row=5, col=1): {1, 2, 3, 4, 5, 6},\n",
       " Cell(row=5, col=2): {1, 2, 3, 4, 5, 6},\n",
       " Cell(row=5, col=3): {1, 2, 3, 4, 5, 6},\n",
       " Cell(row=5, col=4): {1, 2, 3, 4, 5, 6},\n",
       " Cell(row=5, col=5): {1, 2, 3, 4, 5, 6}}"
      ]
     },
     "execution_count": 4,
     "metadata": {},
     "output_type": "execute_result"
    }
   ],
   "source": [
    "# convenience func\n",
    "BOARD_SIZE = puzzle.board_size\n",
    "\n",
    "def get_nums():\n",
    "    return range(1, BOARD_SIZE+1)\n",
    "\n",
    "# create a grid of possible values\n",
    "possible_values = {Cell(row, col): set(get_nums()) for row in range(BOARD_SIZE) for col in range(BOARD_SIZE)}\n",
    "possible_values\n"
   ]
  },
  {
   "cell_type": "code",
   "execution_count": 5,
   "metadata": {},
   "outputs": [
    {
     "name": "stdout",
     "output_type": "stream",
     "text": [
      "123456|123456|123456|123456|123456|123456\n",
      "123456|123456|123456|123456|123456|123456\n",
      "123456|123456|123456|123456|123456|123456\n",
      "123456|123456|123456|123456|123456|123456\n",
      "123456|123456|123456|123456|123456|123456\n",
      "123456|123456|123456|123456|123456|123456\n"
     ]
    }
   ],
   "source": [
    "# Pretty-printing the current state\n",
    "def print_cell(nums):\n",
    "    return \"\".join([str(i) if i in nums else \" \" for i in get_nums()])\n",
    "\n",
    "def print_grid(values):\n",
    "    for row in range(BOARD_SIZE):\n",
    "        print (\"|\".join([print_cell(values[(row, col)]) for col in range(BOARD_SIZE)]))\n",
    "\n",
    "print_grid(possible_values)\n"
   ]
  },
  {
   "cell_type": "code",
   "execution_count": 6,
   "metadata": {},
   "outputs": [],
   "source": [
    "# For a cage, enumerate all the sets of numbers that could meet the arithmetic constraint\n",
    "def enum_cage_solutions(cage):\n",
    "    solutions = {}\n",
    "    # Pass the operator, size and value\n",
    "    # Use pattern matching to validate the right number of cells for an operator\n",
    "    match (cage.op, len(cage.cells), cage.val):\n",
    "        case (op.NULL, 1, val):\n",
    "            solutions = [[val]]\n",
    "        case (op.DIV, 2, val):\n",
    "            solutions = [(i, i*val) for i in range(1, int(BOARD_SIZE/val)+1)]\n",
    "        case (op.SUB, 2, val):\n",
    "            solutions = [(i, i+val) for i in range(1, BOARD_SIZE-val+1)]\n",
    "        case (op.PROD, size, val):\n",
    "            factors = (i for i in get_nums() if val%i == 0)\n",
    "            combos = itertools.product(factors, repeat=size)\n",
    "            possibles = [tuple(sorted(combo)) for combo in combos if math.prod(combo)==val]\n",
    "            solutions = list(set(possibles))\n",
    "        case (op.SUM, size, val):\n",
    "            possible_nums = get_nums()\n",
    "            combos = itertools.product(possible_nums, repeat=size)\n",
    "            possibles = [tuple(sorted(combo)) for combo in combos if sum(combo)==val]\n",
    "            solutions = list(set(possibles))\n",
    "        case _:\n",
    "            raise RuntimeError(f\"Unrecognized operator, or wrong size for operator in {cage}\")\n",
    "    return solutions"
   ]
  },
  {
   "cell_type": "code",
   "execution_count": 7,
   "metadata": {},
   "outputs": [
    {
     "data": {
      "text/plain": [
       "[[(3, 5, 6)],\n",
       " [(2, 3), (1, 4)],\n",
       " [(2, 3), (1, 4)],\n",
       " [(1, 2), (2, 4), (3, 6)],\n",
       " [(5, 6)],\n",
       " [(1, 2), (2, 4), (3, 6)],\n",
       " [(1, 6)],\n",
       " [(2, 6, 6), (3, 4, 6)],\n",
       " [(2, 2, 6), (3, 3, 4), (2, 3, 5), (2, 4, 4), (1, 3, 6), (1, 4, 5)],\n",
       " [(4, 5)],\n",
       " [(2, 4), (3, 3), (1, 5)],\n",
       " [(2, 2, 4), (1, 4, 4)],\n",
       " [(1, 6)],\n",
       " [(1, 2), (2, 4), (3, 6)],\n",
       " [(1, 6), (2, 5), (3, 4)],\n",
       " [(2, 4), (3, 3), (1, 5)]]"
      ]
     },
     "execution_count": 7,
     "metadata": {},
     "output_type": "execute_result"
    }
   ],
   "source": [
    "[enum_cage_solutions(s) for s in puzzle.cages]"
   ]
  },
  {
   "cell_type": "code",
   "execution_count": 8,
   "metadata": {},
   "outputs": [
    {
     "name": "stdout",
     "output_type": "stream",
     "text": [
      "  3 56|  3 56|  3 56|1234  |1234  |1234  \n",
      "1234 6|    56|    56|1234  |1234 6|1234 6\n",
      "1234 6|1    6| 234 6| 234 6| 234 6|123456\n",
      "   45 |1    6|12345 |12345 |123456|123456\n",
      "   45 |12 4  |12 4  |1    6|1    6|1234 6\n",
      "123456|123456|12 4  |12345 |12345 |1234 6\n"
     ]
    }
   ],
   "source": [
    "# Apply the cage math\n",
    "# For each cage, compute the possible values that can fill the cage,\n",
    "# and restrict the global possible values to those values\n",
    "def do_cage_math_logic():\n",
    "    for cage in puzzle.cages:\n",
    "        sols = enum_cage_solutions(cage)\n",
    "        nums = set.union(*[set(sol) for sol in sols])\n",
    "        for cell in cage.cells:\n",
    "            possible_values[cell] = possible_values[cell].intersection(nums)\n",
    "\n",
    "do_cage_math_logic()\n",
    "print_grid(possible_values)"
   ]
  },
  {
   "cell_type": "code",
   "execution_count": 9,
   "metadata": {},
   "outputs": [
    {
     "name": "stdout",
     "output_type": "stream",
     "text": [
      "  3  6|  3 5 |  3 56|12 4  |12 4  |12 4  \n",
      "123   |    5 |    56|1234  |1234  |1234  \n",
      "123  6|1    6| 234 6| 234 6| 234 6|123456\n",
      "   45 |1    6|12345 |12345 |123456|123456\n",
      "   45 | 2 4  | 2 4  |1    6|1    6| 234  \n",
      "123  6| 2345 |12 4  |12345 |12345 |1234 6\n"
     ]
    }
   ],
   "source": [
    "# This does the pigeonhole logic of one number per row/column\n",
    "# The logic is easy when a cell has only one possible value\n",
    "# But it can be generalized; if a row has two pairs with two values, those two values can't be elsewhere\n",
    "# Eg the ' 23' in two cells of row 0 means that there can't be a 2 or 3 elsewhere in row 0\n",
    "# And so on for 3 sets of size 3, etc\n",
    "# TODO generalize this to columns\n",
    "def do_pigeonhole_logic():\n",
    "    for row in range(BOARD_SIZE):\n",
    "        for size in range (1,4):\n",
    "            pairs = {col: possible_values[(row, col)] for col in range(BOARD_SIZE) if len(possible_values[(row, col)])==size}\n",
    "            paired_pairs = [pair for pair in pairs.values() if list(pairs.values()).count(pair)==size]\n",
    "            nums = []\n",
    "            if paired_pairs:\n",
    "                nums = set.union(*[set(pair) for pair in paired_pairs])\n",
    "                for col in range(BOARD_SIZE):\n",
    "                    possibles = possible_values[(row, col)]\n",
    "                    if possibles not in paired_pairs:\n",
    "                        possible_values[(row, col)] = possibles - nums\n",
    "\n",
    "    # For now copy/paste for cols\n",
    "    for col in range(BOARD_SIZE):\n",
    "        for size in range (1,4):\n",
    "            pairs = {row: possible_values[(row, col)] for row in range(BOARD_SIZE) if len(possible_values[(row, col)])==size}\n",
    "            paired_pairs = [pair for pair in pairs.values() if list(pairs.values()).count(pair)==size]\n",
    "            nums = []\n",
    "            if paired_pairs:\n",
    "                nums = set.union(*[set(pair) for pair in paired_pairs])\n",
    "                for row in range(BOARD_SIZE):\n",
    "                    possibles = possible_values[(row, col)]\n",
    "                    if possibles not in paired_pairs:\n",
    "                        possible_values[(row, col)] = possibles - nums\n",
    "\n",
    "do_pigeonhole_logic()\n",
    "print_grid(possible_values)"
   ]
  },
  {
   "cell_type": "code",
   "execution_count": 10,
   "metadata": {},
   "outputs": [
    {
     "name": "stdout",
     "output_type": "stream",
     "text": [
      "  3  6|  3   |  3 5 |12 4  |12 4  |12 4  \n",
      "123   |    5 |     6|1234  |1234  |12 4  \n",
      "123  6|1    6| 234  | 234 6| 234 6|12 456\n",
      "   4  |1    6|12345 |12345 |123456|12 456\n",
      "    5 | 2 4  | 2 4  |1    6|1    6|  3   \n",
      "123  6| 234  |12 4  |12345 |12345 |12 4 6\n"
     ]
    }
   ],
   "source": [
    "# another iteration\n",
    "do_pigeonhole_logic()\n",
    "print_grid(possible_values)"
   ]
  },
  {
   "cell_type": "code",
   "execution_count": 11,
   "metadata": {},
   "outputs": [
    {
     "name": "stdout",
     "output_type": "stream",
     "text": [
      "     6|  3   |    5 |12 4  |12 4  |12 4  \n",
      "123   |    5 |     6|1234  |1234  |12 4  \n",
      "123   |1    6| 234  | 234 6| 234 6|12 456\n",
      "   4  |1    6|123   |123 5 |123 56|12  56\n",
      "    5 | 2 4  | 2 4  |1    6|1    6|  3   \n",
      "123   | 2 4  |12 4  |12345 |12345 |12 4 6\n"
     ]
    }
   ],
   "source": [
    "# a few more iterations\n",
    "[do_pigeonhole_logic() for _ in range(5)]\n",
    "print_grid(possible_values)"
   ]
  },
  {
   "cell_type": "code",
   "execution_count": 12,
   "metadata": {},
   "outputs": [],
   "source": [
    "# TODO the cage math logic is pretty basic now\n",
    "# I could expand it to see which sets are actually possible based on current state\n",
    "# E.g., if a valid set is {1, 2 ,3}, but we know that 3 can't be in any of the three cells,\n",
    "# we can eliminate that set\n",
    "\n",
    "# TODO iteratively run the pigeonhole and math logic until we solve the problem (or converge without a solution)"
   ]
  }
 ],
 "metadata": {
  "interpreter": {
   "hash": "b0fa6594d8f4cbf19f97940f81e996739fb7646882a419484c72d19e05852a7e"
  },
  "kernelspec": {
   "display_name": "Python 3.9.10 64-bit",
   "language": "python",
   "name": "python3"
  },
  "language_info": {
   "codemirror_mode": {
    "name": "ipython",
    "version": 3
   },
   "file_extension": ".py",
   "mimetype": "text/x-python",
   "name": "python",
   "nbconvert_exporter": "python",
   "pygments_lexer": "ipython3",
   "version": "3.10.0"
  },
  "orig_nbformat": 4
 },
 "nbformat": 4,
 "nbformat_minor": 2
}
