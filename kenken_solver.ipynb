{
 "cells": [
  {
   "cell_type": "code",
   "execution_count": 1,
   "metadata": {},
   "outputs": [],
   "source": [
    "import itertools\n",
    "import math\n",
    "\n",
    "from game import Cage, op, Cell, Puzzle\n",
    "import game_parser"
   ]
  },
  {
   "cell_type": "code",
   "execution_count": 2,
   "metadata": {},
   "outputs": [
    {
     "data": {
      "text/plain": [
       "Puzzle(board_size=8, cages=[Cage(cells=[Cell(row=0, col=0), Cell(row=1, col=0)], op=<op.SUB: '-'>, val=7), Cage(cells=[Cell(row=0, col=1), Cell(row=0, col=2)], op=<op.PROD: '*'>, val=24), Cage(cells=[Cell(row=0, col=3), Cell(row=1, col=3), Cell(row=1, col=2)], op=<op.SUM: '+'>, val=18), Cage(cells=[Cell(row=0, col=4), Cell(row=0, col=5)], op=<op.DIV: '/'>, val=3), Cage(cells=[Cell(row=0, col=6), Cell(row=0, col=7)], op=<op.PROD: '*'>, val=10), Cage(cells=[Cell(row=1, col=1), Cell(row=2, col=1), Cell(row=2, col=0)], op=<op.PROD: '*'>, val=105), Cage(cells=[Cell(row=1, col=4), Cell(row=1, col=5)], op=<op.DIV: '/'>, val=3), Cage(cells=[Cell(row=1, col=6), Cell(row=2, col=6)], op=<op.SUM: '+'>, val=6), Cage(cells=[Cell(row=1, col=7), Cell(row=2, col=7)], op=<op.SUB: '-'>, val=2), Cage(cells=[Cell(row=2, col=2), Cell(row=2, col=3)], op=<op.PROD: '*'>, val=24), Cage(cells=[Cell(row=2, col=4), Cell(row=2, col=5)], op=<op.SUM: '+'>, val=15), Cage(cells=[Cell(row=3, col=0), Cell(row=3, col=1)], op=<op.DIV: '/'>, val=3), Cage(cells=[Cell(row=3, col=2), Cell(row=4, col=2), Cell(row=4, col=1)], op=<op.PROD: '*'>, val=64), Cage(cells=[Cell(row=3, col=3), Cell(row=3, col=4), Cell(row=3, col=5)], op=<op.PROD: '*'>, val=70), Cage(cells=[Cell(row=3, col=6), Cell(row=3, col=7)], op=<op.PROD: '*'>, val=24), Cage(cells=[Cell(row=4, col=0), Cell(row=5, col=0)], op=<op.DIV: '/'>, val=3), Cage(cells=[Cell(row=4, col=3), Cell(row=5, col=3)], op=<op.PROD: '*'>, val=15), Cage(cells=[Cell(row=4, col=4), Cell(row=4, col=5)], op=<op.DIV: '/'>, val=2), Cage(cells=[Cell(row=4, col=6), Cell(row=4, col=7), Cell(row=5, col=7)], op=<op.PROD: '*'>, val=21), Cage(cells=[Cell(row=5, col=1), Cell(row=5, col=2)], op=<op.SUM: '+'>, val=11), Cage(cells=[Cell(row=5, col=4), Cell(row=6, col=4), Cell(row=6, col=3)], op=<op.SUM: '+'>, val=13), Cage(cells=[Cell(row=5, col=5), Cell(row=5, col=6)], op=<op.SUB: '-'>, val=1), Cage(cells=[Cell(row=6, col=0), Cell(row=6, col=1)], op=<op.PROD: '*'>, val=35), Cage(cells=[Cell(row=6, col=2), Cell(row=7, col=2)], op=<op.SUM: '+'>, val=7), Cage(cells=[Cell(row=6, col=5), Cell(row=7, col=5)], op=<op.DIV: '/'>, val=2), Cage(cells=[Cell(row=6, col=6), Cell(row=7, col=6)], op=<op.SUB: '-'>, val=1), Cage(cells=[Cell(row=6, col=7), Cell(row=7, col=7)], op=<op.SUB: '-'>, val=5), Cage(cells=[Cell(row=7, col=0), Cell(row=7, col=1)], op=<op.DIV: '/'>, val=2), Cage(cells=[Cell(row=7, col=3), Cell(row=7, col=4)], op=<op.SUB: '-'>, val=5)])"
      ]
     },
     "execution_count": 2,
     "metadata": {},
     "output_type": "execute_result"
    }
   ],
   "source": [
    "puzzle = game_parser.get_puzzle(98683)\n",
    "puzzle"
   ]
  },
  {
   "cell_type": "code",
   "execution_count": 3,
   "metadata": {},
   "outputs": [
    {
     "name": "stdout",
     "output_type": "stream",
     "text": [
      "-  7   2 cells: (0,0) (1,0)\n",
      "* 24   2 cells: (0,1) (0,2)\n",
      "+ 18   3 cells: (0,3) (1,3) (1,2)\n",
      "/  3   2 cells: (0,4) (0,5)\n",
      "* 10   2 cells: (0,6) (0,7)\n",
      "*105   3 cells: (1,1) (2,1) (2,0)\n",
      "/  3   2 cells: (1,4) (1,5)\n",
      "+  6   2 cells: (1,6) (2,6)\n",
      "-  2   2 cells: (1,7) (2,7)\n",
      "* 24   2 cells: (2,2) (2,3)\n",
      "+ 15   2 cells: (2,4) (2,5)\n",
      "/  3   2 cells: (3,0) (3,1)\n",
      "* 64   3 cells: (3,2) (4,2) (4,1)\n",
      "* 70   3 cells: (3,3) (3,4) (3,5)\n",
      "* 24   2 cells: (3,6) (3,7)\n",
      "/  3   2 cells: (4,0) (5,0)\n",
      "* 15   2 cells: (4,3) (5,3)\n",
      "/  2   2 cells: (4,4) (4,5)\n",
      "* 21   3 cells: (4,6) (4,7) (5,7)\n",
      "+ 11   2 cells: (5,1) (5,2)\n",
      "+ 13   3 cells: (5,4) (6,4) (6,3)\n",
      "-  1   2 cells: (5,5) (5,6)\n",
      "* 35   2 cells: (6,0) (6,1)\n",
      "+  7   2 cells: (6,2) (7,2)\n",
      "/  2   2 cells: (6,5) (7,5)\n",
      "-  1   2 cells: (6,6) (7,6)\n",
      "-  5   2 cells: (6,7) (7,7)\n",
      "/  2   2 cells: (7,0) (7,1)\n",
      "-  5   2 cells: (7,3) (7,4)\n"
     ]
    }
   ],
   "source": [
    "# Pretty-print the cages for a better look at them\n",
    "\n",
    "def cell_str(cell: Cell) -> str:\n",
    "    return f'({cell.row},{cell. col})'\n",
    "\n",
    "def cage_str(cage: Cage) -> str:\n",
    "    s =  f'{cage.op.value}{cage.val:3}   {len(cage.cells)} cells: {\" \".join([cell_str(c) for c in cage.cells])}'\n",
    "    return s\n",
    "\n",
    "[print(cage_str(c)) for c in puzzle.cages]\n",
    "None\n"
   ]
  },
  {
   "cell_type": "code",
   "execution_count": 4,
   "metadata": {},
   "outputs": [
    {
     "data": {
      "text/plain": [
       "(64, 64, 64)"
      ]
     },
     "execution_count": 4,
     "metadata": {},
     "output_type": "execute_result"
    }
   ],
   "source": [
    "# Validate that we have the right number of total cells, and unique cells\n",
    "puzzle.board_size**2, sum(len(c.cells) for c in puzzle.cages), len(set.union(*(set(c.cells) for c in puzzle.cages)))"
   ]
  },
  {
   "cell_type": "code",
   "execution_count": 5,
   "metadata": {},
   "outputs": [
    {
     "data": {
      "text/plain": [
       "{Cell(row=0, col=0): {1, 2, 3, 4, 5, 6, 7, 8},\n",
       " Cell(row=0, col=1): {1, 2, 3, 4, 5, 6, 7, 8},\n",
       " Cell(row=0, col=2): {1, 2, 3, 4, 5, 6, 7, 8},\n",
       " Cell(row=0, col=3): {1, 2, 3, 4, 5, 6, 7, 8},\n",
       " Cell(row=0, col=4): {1, 2, 3, 4, 5, 6, 7, 8},\n",
       " Cell(row=0, col=5): {1, 2, 3, 4, 5, 6, 7, 8},\n",
       " Cell(row=0, col=6): {1, 2, 3, 4, 5, 6, 7, 8},\n",
       " Cell(row=0, col=7): {1, 2, 3, 4, 5, 6, 7, 8},\n",
       " Cell(row=1, col=0): {1, 2, 3, 4, 5, 6, 7, 8},\n",
       " Cell(row=1, col=1): {1, 2, 3, 4, 5, 6, 7, 8},\n",
       " Cell(row=1, col=2): {1, 2, 3, 4, 5, 6, 7, 8},\n",
       " Cell(row=1, col=3): {1, 2, 3, 4, 5, 6, 7, 8},\n",
       " Cell(row=1, col=4): {1, 2, 3, 4, 5, 6, 7, 8},\n",
       " Cell(row=1, col=5): {1, 2, 3, 4, 5, 6, 7, 8},\n",
       " Cell(row=1, col=6): {1, 2, 3, 4, 5, 6, 7, 8},\n",
       " Cell(row=1, col=7): {1, 2, 3, 4, 5, 6, 7, 8},\n",
       " Cell(row=2, col=0): {1, 2, 3, 4, 5, 6, 7, 8},\n",
       " Cell(row=2, col=1): {1, 2, 3, 4, 5, 6, 7, 8},\n",
       " Cell(row=2, col=2): {1, 2, 3, 4, 5, 6, 7, 8},\n",
       " Cell(row=2, col=3): {1, 2, 3, 4, 5, 6, 7, 8},\n",
       " Cell(row=2, col=4): {1, 2, 3, 4, 5, 6, 7, 8},\n",
       " Cell(row=2, col=5): {1, 2, 3, 4, 5, 6, 7, 8},\n",
       " Cell(row=2, col=6): {1, 2, 3, 4, 5, 6, 7, 8},\n",
       " Cell(row=2, col=7): {1, 2, 3, 4, 5, 6, 7, 8},\n",
       " Cell(row=3, col=0): {1, 2, 3, 4, 5, 6, 7, 8},\n",
       " Cell(row=3, col=1): {1, 2, 3, 4, 5, 6, 7, 8},\n",
       " Cell(row=3, col=2): {1, 2, 3, 4, 5, 6, 7, 8},\n",
       " Cell(row=3, col=3): {1, 2, 3, 4, 5, 6, 7, 8},\n",
       " Cell(row=3, col=4): {1, 2, 3, 4, 5, 6, 7, 8},\n",
       " Cell(row=3, col=5): {1, 2, 3, 4, 5, 6, 7, 8},\n",
       " Cell(row=3, col=6): {1, 2, 3, 4, 5, 6, 7, 8},\n",
       " Cell(row=3, col=7): {1, 2, 3, 4, 5, 6, 7, 8},\n",
       " Cell(row=4, col=0): {1, 2, 3, 4, 5, 6, 7, 8},\n",
       " Cell(row=4, col=1): {1, 2, 3, 4, 5, 6, 7, 8},\n",
       " Cell(row=4, col=2): {1, 2, 3, 4, 5, 6, 7, 8},\n",
       " Cell(row=4, col=3): {1, 2, 3, 4, 5, 6, 7, 8},\n",
       " Cell(row=4, col=4): {1, 2, 3, 4, 5, 6, 7, 8},\n",
       " Cell(row=4, col=5): {1, 2, 3, 4, 5, 6, 7, 8},\n",
       " Cell(row=4, col=6): {1, 2, 3, 4, 5, 6, 7, 8},\n",
       " Cell(row=4, col=7): {1, 2, 3, 4, 5, 6, 7, 8},\n",
       " Cell(row=5, col=0): {1, 2, 3, 4, 5, 6, 7, 8},\n",
       " Cell(row=5, col=1): {1, 2, 3, 4, 5, 6, 7, 8},\n",
       " Cell(row=5, col=2): {1, 2, 3, 4, 5, 6, 7, 8},\n",
       " Cell(row=5, col=3): {1, 2, 3, 4, 5, 6, 7, 8},\n",
       " Cell(row=5, col=4): {1, 2, 3, 4, 5, 6, 7, 8},\n",
       " Cell(row=5, col=5): {1, 2, 3, 4, 5, 6, 7, 8},\n",
       " Cell(row=5, col=6): {1, 2, 3, 4, 5, 6, 7, 8},\n",
       " Cell(row=5, col=7): {1, 2, 3, 4, 5, 6, 7, 8},\n",
       " Cell(row=6, col=0): {1, 2, 3, 4, 5, 6, 7, 8},\n",
       " Cell(row=6, col=1): {1, 2, 3, 4, 5, 6, 7, 8},\n",
       " Cell(row=6, col=2): {1, 2, 3, 4, 5, 6, 7, 8},\n",
       " Cell(row=6, col=3): {1, 2, 3, 4, 5, 6, 7, 8},\n",
       " Cell(row=6, col=4): {1, 2, 3, 4, 5, 6, 7, 8},\n",
       " Cell(row=6, col=5): {1, 2, 3, 4, 5, 6, 7, 8},\n",
       " Cell(row=6, col=6): {1, 2, 3, 4, 5, 6, 7, 8},\n",
       " Cell(row=6, col=7): {1, 2, 3, 4, 5, 6, 7, 8},\n",
       " Cell(row=7, col=0): {1, 2, 3, 4, 5, 6, 7, 8},\n",
       " Cell(row=7, col=1): {1, 2, 3, 4, 5, 6, 7, 8},\n",
       " Cell(row=7, col=2): {1, 2, 3, 4, 5, 6, 7, 8},\n",
       " Cell(row=7, col=3): {1, 2, 3, 4, 5, 6, 7, 8},\n",
       " Cell(row=7, col=4): {1, 2, 3, 4, 5, 6, 7, 8},\n",
       " Cell(row=7, col=5): {1, 2, 3, 4, 5, 6, 7, 8},\n",
       " Cell(row=7, col=6): {1, 2, 3, 4, 5, 6, 7, 8},\n",
       " Cell(row=7, col=7): {1, 2, 3, 4, 5, 6, 7, 8}}"
      ]
     },
     "execution_count": 5,
     "metadata": {},
     "output_type": "execute_result"
    }
   ],
   "source": [
    "BOARD_SIZE = puzzle.board_size\n",
    "\n",
    "# convenience func\n",
    "def get_nums():\n",
    "    return range(1, BOARD_SIZE+1)\n",
    "\n",
    "# create a grid of possible values\n",
    "possible_values = {Cell(row, col): set(get_nums()) for row in range(BOARD_SIZE) for col in range(BOARD_SIZE)}\n",
    "possible_values\n"
   ]
  },
  {
   "cell_type": "code",
   "execution_count": 6,
   "metadata": {},
   "outputs": [
    {
     "name": "stdout",
     "output_type": "stream",
     "text": [
      "12345678|12345678|12345678|12345678|12345678|12345678|12345678|12345678\n",
      "12345678|12345678|12345678|12345678|12345678|12345678|12345678|12345678\n",
      "12345678|12345678|12345678|12345678|12345678|12345678|12345678|12345678\n",
      "12345678|12345678|12345678|12345678|12345678|12345678|12345678|12345678\n",
      "12345678|12345678|12345678|12345678|12345678|12345678|12345678|12345678\n",
      "12345678|12345678|12345678|12345678|12345678|12345678|12345678|12345678\n",
      "12345678|12345678|12345678|12345678|12345678|12345678|12345678|12345678\n",
      "12345678|12345678|12345678|12345678|12345678|12345678|12345678|12345678\n"
     ]
    }
   ],
   "source": [
    "# Pretty-printing the current state\n",
    "def print_cell(nums):\n",
    "    return \"\".join([str(i) if i in nums else \" \" for i in get_nums()])\n",
    "\n",
    "def print_grid(values):\n",
    "    for row in range(BOARD_SIZE):\n",
    "        print (\"|\".join([print_cell(values[(row, col)]) for col in range(BOARD_SIZE)]))\n",
    "\n",
    "print_grid(possible_values)\n"
   ]
  },
  {
   "cell_type": "code",
   "execution_count": 7,
   "metadata": {},
   "outputs": [],
   "source": [
    "# For a cage, enumerate all the sets of numbers that could meet the arithmetic constraint\n",
    "def enum_cage_solutions(cage):\n",
    "    solutions = {}\n",
    "    # Pass the operator, size and value\n",
    "    # Use pattern matching to validate the right number of cells for an operator\n",
    "    match (cage.op, len(cage.cells), cage.val):\n",
    "        case (op.NULL, 1, val):\n",
    "            solutions = [[val]]\n",
    "        case (op.DIV, 2, val):\n",
    "            solutions = [(i, i*val) for i in range(1, int(BOARD_SIZE/val)+1)]\n",
    "        case (op.SUB, 2, val):\n",
    "            solutions = [(i, i+val) for i in range(1, BOARD_SIZE-val+1)]\n",
    "        case (op.PROD, size, val):\n",
    "            factors = (i for i in get_nums() if val%i == 0)\n",
    "            combos = itertools.product(factors, repeat=size)\n",
    "            possibles = [tuple(sorted(combo)) for combo in combos if math.prod(combo)==val]\n",
    "            solutions = list(set(possibles))\n",
    "        case (op.SUM, size, val):\n",
    "            possible_nums = get_nums()\n",
    "            combos = itertools.product(possible_nums, repeat=size)\n",
    "            possibles = [tuple(sorted(combo)) for combo in combos if sum(combo)==val]\n",
    "            solutions = list(set(possibles))\n",
    "        case _:\n",
    "            raise RuntimeError(f\"Unrecognized operator, or wrong size for operator in {cage}\")\n",
    "    return solutions"
   ]
  },
  {
   "cell_type": "code",
   "execution_count": 8,
   "metadata": {},
   "outputs": [
    {
     "data": {
      "text/plain": [
       "[[(1, 8)],\n",
       " [(3, 8), (4, 6)],\n",
       " [(6, 6, 6), (5, 5, 8), (4, 6, 8), (4, 7, 7), (5, 6, 7), (2, 8, 8), (3, 7, 8)],\n",
       " [(1, 3), (2, 6)],\n",
       " [(2, 5)],\n",
       " [(3, 5, 7)],\n",
       " [(1, 3), (2, 6)],\n",
       " [(2, 4), (3, 3), (1, 5)],\n",
       " [(1, 3), (2, 4), (3, 5), (4, 6), (5, 7), (6, 8)],\n",
       " [(3, 8), (4, 6)],\n",
       " [(7, 8)],\n",
       " [(1, 3), (2, 6)],\n",
       " [(4, 4, 4), (1, 8, 8), (2, 4, 8)],\n",
       " [(2, 5, 7)],\n",
       " [(3, 8), (4, 6)],\n",
       " [(1, 3), (2, 6)],\n",
       " [(3, 5)],\n",
       " [(1, 2), (2, 4), (3, 6), (4, 8)],\n",
       " [(1, 3, 7)],\n",
       " [(3, 8), (5, 6), (4, 7)],\n",
       " [(3, 4, 6),\n",
       "  (1, 5, 7),\n",
       "  (3, 3, 7),\n",
       "  (1, 6, 6),\n",
       "  (4, 4, 5),\n",
       "  (2, 4, 7),\n",
       "  (2, 3, 8),\n",
       "  (3, 5, 5),\n",
       "  (2, 5, 6),\n",
       "  (1, 4, 8)],\n",
       " [(1, 2), (2, 3), (3, 4), (4, 5), (5, 6), (6, 7), (7, 8)],\n",
       " [(5, 7)],\n",
       " [(1, 6), (2, 5), (3, 4)],\n",
       " [(1, 2), (2, 4), (3, 6), (4, 8)],\n",
       " [(1, 2), (2, 3), (3, 4), (4, 5), (5, 6), (6, 7), (7, 8)],\n",
       " [(1, 6), (2, 7), (3, 8)],\n",
       " [(1, 2), (2, 4), (3, 6), (4, 8)],\n",
       " [(1, 6), (2, 7), (3, 8)]]"
      ]
     },
     "execution_count": 8,
     "metadata": {},
     "output_type": "execute_result"
    }
   ],
   "source": [
    "[enum_cage_solutions(s) for s in puzzle.cages]"
   ]
  },
  {
   "cell_type": "code",
   "execution_count": 9,
   "metadata": {},
   "outputs": [
    {
     "name": "stdout",
     "output_type": "stream",
     "text": [
      "1      8|  34 6 8|  34 6 8| 2345678|123  6  |123  6  | 2  5   | 2  5   \n",
      "1      8|  3 5 7 | 2345678| 2345678|123  6  |123  6  |12345   |12345678\n",
      "  3 5 7 |  3 5 7 |  34 6 8|  34 6 8|      78|      78|12345   |12345678\n",
      "123  6  |123  6  |12 4   8| 2  5 7 | 2  5 7 | 2  5 7 |  34 6 8|  34 6 8\n",
      "123  6  |12 4   8|12 4   8|  3 5   |1234 6 8|1234 6 8|1 3   7 |1 3   7 \n",
      "123  6  |  345678|  345678|  3 5   |12345678|12345678|12345678|1 3   7 \n",
      "    5 7 |    5 7 |123456  |12345678|12345678|1234 6 8|12345678|123  678\n",
      "1234 6 8|1234 6 8|123456  |123  678|123  678|1234 6 8|12345678|123  678\n"
     ]
    }
   ],
   "source": [
    "# Apply the cage math\n",
    "# For each cage, compute the possible values that can fill the cage,\n",
    "# and restrict the global possible values to those values\n",
    "def do_cage_math_logic():\n",
    "    for cage in puzzle.cages:\n",
    "        sols = enum_cage_solutions(cage)\n",
    "        nums = set.union(*[set(sol) for sol in sols])\n",
    "        for cell in cage.cells:\n",
    "            possible_values[cell] = possible_values[cell].intersection(nums)\n",
    "\n",
    "do_cage_math_logic()\n",
    "print_grid(possible_values)"
   ]
  },
  {
   "cell_type": "code",
   "execution_count": 10,
   "metadata": {},
   "outputs": [
    {
     "name": "stdout",
     "output_type": "stream",
     "text": [
      "1      8|  34 6 8|  34 6 8|   4 678|1 3  6  |1 3  6  | 2  5   | 2  5   \n",
      "1      8|  3 5 7 | 2345678| 2 4 678|123  6  |123  6  |12345   |12345678\n",
      "  3 5   |  3 5   |  34 6  |   4 6  |      78|      78|12345   |123456  \n",
      "  3  6  |1 3  6  |1  4   8| 2    7 | 2  5 7 | 2  5 7 |  34 6 8|  34 6 8\n",
      " 23  6  |12 4   8|12 4   8|  3 5   |1234 6 8|1234 6 8|1 3   7 |1 3   7 \n",
      " 23  6  |  345678|  345678|  3 5   |12345678|12345678|12345678|1 3   7 \n",
      "    5 7 |    5 7 |1234 6  |12 4 6 8|1234 6 8|1234 6 8|1234 6 8|123  6 8\n",
      " 234 6  |1234 6 8|123456  |12   678|123  678|1234 6 8|12345678|123  678\n"
     ]
    }
   ],
   "source": [
    "# This does the pigeonhole logic of one number per row/column\n",
    "# The logic is easy when a cell has only one possible value\n",
    "# But it can be generalized; if a row has two pairs with two values, those two values can't be elsewhere\n",
    "# Eg the ' 23' in two cells of row 0 means that there can't be a 2 or 3 elsewhere in row 0\n",
    "# And so on for 3 sets of size 3, etc\n",
    "# TODO generalize this to columns\n",
    "def do_pigeonhole_logic():\n",
    "    for row in range(BOARD_SIZE):\n",
    "        for size in range (1,4):\n",
    "            pairs = {col: possible_values[(row, col)] for col in range(BOARD_SIZE) if len(possible_values[(row, col)])==size}\n",
    "            paired_pairs = [pair for pair in pairs.values() if list(pairs.values()).count(pair)==size]\n",
    "            nums = []\n",
    "            if paired_pairs:\n",
    "                nums = set.union(*[set(pair) for pair in paired_pairs])\n",
    "                for col in range(BOARD_SIZE):\n",
    "                    possibles = possible_values[(row, col)]\n",
    "                    if possibles not in paired_pairs:\n",
    "                        possible_values[(row, col)] = possibles - nums\n",
    "\n",
    "    # For now copy/paste for cols\n",
    "    for col in range(BOARD_SIZE):\n",
    "        for size in range (1,4):\n",
    "            pairs = {row: possible_values[(row, col)] for row in range(BOARD_SIZE) if len(possible_values[(row, col)])==size}\n",
    "            paired_pairs = [pair for pair in pairs.values() if list(pairs.values()).count(pair)==size]\n",
    "            nums = []\n",
    "            if paired_pairs:\n",
    "                nums = set.union(*[set(pair) for pair in paired_pairs])\n",
    "                for row in range(BOARD_SIZE):\n",
    "                    possibles = possible_values[(row, col)]\n",
    "                    if possibles not in paired_pairs:\n",
    "                        possible_values[(row, col)] = possibles - nums\n",
    "\n",
    "do_pigeonhole_logic()\n",
    "print_grid(possible_values)"
   ]
  },
  {
   "cell_type": "code",
   "execution_count": 11,
   "metadata": {},
   "outputs": [
    {
     "name": "stdout",
     "output_type": "stream",
     "text": [
      "1      8|  34 6 8|  34 6 8|   4 678|1 3  6  |1 3  6  | 2  5   | 2  5   \n",
      "1      8|  3 5 7 | 2345678| 2 4 678|123  6  |123  6  |12345   |12345678\n",
      "  3 5   |  3 5   |   4 6  |   4 6  |      78|      78|12 4    |12 4 6  \n",
      "  3  6  |1 3  6  |1  4   8| 2    7 | 2  5 7 | 2  5 7 |  34 6 8|  34 6 8\n",
      " 23  6  |12 4   8|12 4   8|  3 5   |1234 6 8|1234 6 8|1 3   7 |1 3   7 \n",
      " 23  6  |  345678|  345678|  3 5   |12345678|12345678|12345678|1 3   7 \n",
      "    5 7 |    5 7 |1234 6  |12 4 6 8|1234 6 8|1234 6 8|1234 6 8|123  6 8\n",
      " 234 6  |1234 6 8|123456  |12   678|123  678|1234 6 8|12345678|123  678\n"
     ]
    }
   ],
   "source": [
    "# another iteration\n",
    "do_pigeonhole_logic()\n",
    "print_grid(possible_values)"
   ]
  },
  {
   "cell_type": "code",
   "execution_count": 12,
   "metadata": {},
   "outputs": [
    {
     "name": "stdout",
     "output_type": "stream",
     "text": [
      "1      8|  34 6 8|  34 6 8|   4 678|1 3  6  |1 3  6  | 2  5   | 2  5   \n",
      "1      8|  3 5 7 | 2345678| 2 4 678|123  6  |123  6  |12345   |12345678\n",
      "  3 5   |  3 5   |   4 6  |   4 6  |      78|      78|12      |12      \n",
      "  3  6  |1 3  6  |1  4   8| 2    7 | 2  5 7 | 2  5 7 |  34 6 8|  34 6 8\n",
      " 23  6  |12 4   8|12 4   8|  3 5   |1234 6 8|1234 6 8|1 3   7 |1 3   7 \n",
      " 23  6  |  345678|  345678|  3 5   |12345678|12345678|12345678|1 3   7 \n",
      "    5 7 |    5 7 |1234 6  |12 4 6 8|1234 6 8|1234 6 8|1234 6 8|123  6 8\n",
      " 234 6  |1234 6 8|123456  |12   678|123  678|1234 6 8|12345678|123  678\n"
     ]
    }
   ],
   "source": [
    "# a few more iterations\n",
    "[do_pigeonhole_logic() for _ in range(5)]\n",
    "print_grid(possible_values)"
   ]
  },
  {
   "cell_type": "code",
   "execution_count": 13,
   "metadata": {},
   "outputs": [],
   "source": [
    "# TODO the cage math logic is pretty basic now\n",
    "# I could expand it to see which sets are actually possible based on current state\n",
    "# E.g., if a valid set is {1, 2 ,3}, but we know that 3 can't be in any of the three cells,\n",
    "# we can eliminate that set\n",
    "\n",
    "# TODO iteratively run the pigeonhole and math logic until we solve the problem (or converge without a solution)"
   ]
  }
 ],
 "metadata": {
  "interpreter": {
   "hash": "b0fa6594d8f4cbf19f97940f81e996739fb7646882a419484c72d19e05852a7e"
  },
  "kernelspec": {
   "display_name": "Python 3.9.10 64-bit",
   "language": "python",
   "name": "python3"
  },
  "language_info": {
   "codemirror_mode": {
    "name": "ipython",
    "version": 3
   },
   "file_extension": ".py",
   "mimetype": "text/x-python",
   "name": "python",
   "nbconvert_exporter": "python",
   "pygments_lexer": "ipython3",
   "version": "3.10.0"
  },
  "orig_nbformat": 4
 },
 "nbformat": 4,
 "nbformat_minor": 2
}
